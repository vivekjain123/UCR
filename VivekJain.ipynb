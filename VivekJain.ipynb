{
 "cells": [
  {
   "cell_type": "markdown",
   "metadata": {},
   "source": [
    "# What Makes a Movie Profitable? Indicators of Box Office Success\n",
    "\n",
    "\n",
    "\n",
    "\n",
    "## Background ##\n",
    "\n",
    "In 2016, the [global film industry](https://www.statista.com/topics/964/film/) generated 38 billion US dollars, and revenues are projected to increase to nearly 50 billion US dollars by 2020. However, although a highly profitable industry as a whole, every movie produced also requires a high level of investment from studios, producers, etc. with little guarantee that there will be a return on investment. A movie's profitability is increasingly elusive with the shift in consumer behavior towards media consumption and [rising marketing costs](http://www.hollywoodreporter.com/news/200-million-rising-hollywood-struggles-721818). \n",
    " \n",
    "The unpredicatability of a movie's profitability was highlighted recently with the failure of the movie [\"The Great Wall\"](http://www.hollywoodreporter.com/news/what-great-walls-box-office-flop-will-cost-studios-981602). Financed through a joint partnership between the US and China, the movie was expected to be a huge success. Nonetheless, the movie only made 34.8 million US dollars in the North American box office, in comparison with a production budget of 150 million US dollars. \n",
    "\n",
    "On the other hand, [Amazon](http://www.businessinsider.com/amazon-investing-well-over-3-billion-in-video-says-analyst-2016-12) has been investing over 3 billion US dollars annually in original content with various success stories such as their investment in \"Manchester in the Sea\", which recieved six Oscar nominations in 2017. \n",
    "\n",
    "The profitability of an individual film is highly unpredictable, but industry investors would be put at ease if there could be some understanding of whether their investments will be worthwhile. Therefore, we want to look at the best indicators to predict a film’s success. We define a film's success by its domestic box office revenue.\n",
    "\n",
    "## Data ##\n",
    "\n",
    "Data comes from the following website: https://www.kaggle.com/deepmatrix/imdb-5000-movie-dataset\n",
    "\n",
    "The \"IMDB 5000 Movie Set\" contains movie data for over 5000 movies made in the past 100 years. The information was scraped from IMDB's database, and attached as a CSV file. "
   ]
  },
  {
   "cell_type": "markdown",
   "metadata": {},
   "source": [
    "In this assignment, you are to identify what contributes a movie's success as the success is determined by its gross revenue"
   ]
  },
  {
   "cell_type": "markdown",
   "metadata": {},
   "source": [
    "Specifically will focus on\n",
    "   - (15 pts) - Budget vs. Gross Revenue \n",
    "   - (15 pts) - IMDB Ratings vs Gross Revenue \n",
    "   - (15 pts) - MPAA Ratings vs. Gross Revenue  \n",
    "   - (15 pts) - Genre vs Gross Revenue     \n",
    "   - (15 pts) - Director Popularity vs Gross Revenue \n",
    "   - (15 pts) - Star Power vs Gross Revenue        \n",
    "   - (10 pts) and provide your opinion on what makes a movie successful \n",
    "                                                     "
   ]
  },
  {
   "cell_type": "markdown",
   "metadata": {},
   "source": [
    "For this you'll use the pandas package and visualization tool of your choice"
   ]
  },
  {
   "cell_type": "markdown",
   "metadata": {},
   "source": [
    "## Getting Started\n"
   ]
  },
  {
   "cell_type": "code",
   "execution_count": 1,
   "metadata": {
    "collapsed": true
   },
   "outputs": [],
   "source": [
    "import sys\n",
    "import pandas as pd\n",
    "import matplotlib as mpl\n",
    "import matplotlib.pyplot as plt\n",
    "import numpy as np\n",
    "import datetime as dt\n",
    "import time\n",
    "import seaborn as sns\n",
    "from pandas_datareader import wb, data as web\n",
    "\n",
    "\n",
    "%matplotlib inline"
   ]
  },
  {
   "cell_type": "code",
   "execution_count": 2,
   "metadata": {
    "collapsed": true
   },
   "outputs": [],
   "source": [
    "df = pd.read_csv('movie_metadata.csv')"
   ]
  },
  {
   "cell_type": "code",
   "execution_count": 3,
   "metadata": {},
   "outputs": [
    {
     "data": {
      "text/html": [
       "<div>\n",
       "<style>\n",
       "    .dataframe thead tr:only-child th {\n",
       "        text-align: right;\n",
       "    }\n",
       "\n",
       "    .dataframe thead th {\n",
       "        text-align: left;\n",
       "    }\n",
       "\n",
       "    .dataframe tbody tr th {\n",
       "        vertical-align: top;\n",
       "    }\n",
       "</style>\n",
       "<table border=\"1\" class=\"dataframe\">\n",
       "  <thead>\n",
       "    <tr style=\"text-align: right;\">\n",
       "      <th></th>\n",
       "      <th>color</th>\n",
       "      <th>director_name</th>\n",
       "      <th>num_critic_for_reviews</th>\n",
       "      <th>duration</th>\n",
       "      <th>director_facebook_likes</th>\n",
       "      <th>actor_3_facebook_likes</th>\n",
       "      <th>actor_2_name</th>\n",
       "      <th>actor_1_facebook_likes</th>\n",
       "      <th>gross</th>\n",
       "      <th>genres</th>\n",
       "      <th>...</th>\n",
       "      <th>num_user_for_reviews</th>\n",
       "      <th>language</th>\n",
       "      <th>country</th>\n",
       "      <th>content_rating</th>\n",
       "      <th>budget</th>\n",
       "      <th>title_year</th>\n",
       "      <th>actor_2_facebook_likes</th>\n",
       "      <th>imdb_score</th>\n",
       "      <th>aspect_ratio</th>\n",
       "      <th>movie_facebook_likes</th>\n",
       "    </tr>\n",
       "  </thead>\n",
       "  <tbody>\n",
       "    <tr>\n",
       "      <th>0</th>\n",
       "      <td>Color</td>\n",
       "      <td>James Cameron</td>\n",
       "      <td>723.0</td>\n",
       "      <td>178.0</td>\n",
       "      <td>0.0</td>\n",
       "      <td>855.0</td>\n",
       "      <td>Joel David Moore</td>\n",
       "      <td>1000.0</td>\n",
       "      <td>760505847.0</td>\n",
       "      <td>Action|Adventure|Fantasy|Sci-Fi</td>\n",
       "      <td>...</td>\n",
       "      <td>3054.0</td>\n",
       "      <td>English</td>\n",
       "      <td>USA</td>\n",
       "      <td>PG-13</td>\n",
       "      <td>237000000.0</td>\n",
       "      <td>2009.0</td>\n",
       "      <td>936.0</td>\n",
       "      <td>7.9</td>\n",
       "      <td>1.78</td>\n",
       "      <td>33000</td>\n",
       "    </tr>\n",
       "    <tr>\n",
       "      <th>1</th>\n",
       "      <td>Color</td>\n",
       "      <td>Gore Verbinski</td>\n",
       "      <td>302.0</td>\n",
       "      <td>169.0</td>\n",
       "      <td>563.0</td>\n",
       "      <td>1000.0</td>\n",
       "      <td>Orlando Bloom</td>\n",
       "      <td>40000.0</td>\n",
       "      <td>309404152.0</td>\n",
       "      <td>Action|Adventure|Fantasy</td>\n",
       "      <td>...</td>\n",
       "      <td>1238.0</td>\n",
       "      <td>English</td>\n",
       "      <td>USA</td>\n",
       "      <td>PG-13</td>\n",
       "      <td>300000000.0</td>\n",
       "      <td>2007.0</td>\n",
       "      <td>5000.0</td>\n",
       "      <td>7.1</td>\n",
       "      <td>2.35</td>\n",
       "      <td>0</td>\n",
       "    </tr>\n",
       "    <tr>\n",
       "      <th>2</th>\n",
       "      <td>Color</td>\n",
       "      <td>Sam Mendes</td>\n",
       "      <td>602.0</td>\n",
       "      <td>148.0</td>\n",
       "      <td>0.0</td>\n",
       "      <td>161.0</td>\n",
       "      <td>Rory Kinnear</td>\n",
       "      <td>11000.0</td>\n",
       "      <td>200074175.0</td>\n",
       "      <td>Action|Adventure|Thriller</td>\n",
       "      <td>...</td>\n",
       "      <td>994.0</td>\n",
       "      <td>English</td>\n",
       "      <td>UK</td>\n",
       "      <td>PG-13</td>\n",
       "      <td>245000000.0</td>\n",
       "      <td>2015.0</td>\n",
       "      <td>393.0</td>\n",
       "      <td>6.8</td>\n",
       "      <td>2.35</td>\n",
       "      <td>85000</td>\n",
       "    </tr>\n",
       "    <tr>\n",
       "      <th>3</th>\n",
       "      <td>Color</td>\n",
       "      <td>Christopher Nolan</td>\n",
       "      <td>813.0</td>\n",
       "      <td>164.0</td>\n",
       "      <td>22000.0</td>\n",
       "      <td>23000.0</td>\n",
       "      <td>Christian Bale</td>\n",
       "      <td>27000.0</td>\n",
       "      <td>448130642.0</td>\n",
       "      <td>Action|Thriller</td>\n",
       "      <td>...</td>\n",
       "      <td>2701.0</td>\n",
       "      <td>English</td>\n",
       "      <td>USA</td>\n",
       "      <td>PG-13</td>\n",
       "      <td>250000000.0</td>\n",
       "      <td>2012.0</td>\n",
       "      <td>23000.0</td>\n",
       "      <td>8.5</td>\n",
       "      <td>2.35</td>\n",
       "      <td>164000</td>\n",
       "    </tr>\n",
       "    <tr>\n",
       "      <th>4</th>\n",
       "      <td>NaN</td>\n",
       "      <td>Doug Walker</td>\n",
       "      <td>NaN</td>\n",
       "      <td>NaN</td>\n",
       "      <td>131.0</td>\n",
       "      <td>NaN</td>\n",
       "      <td>Rob Walker</td>\n",
       "      <td>131.0</td>\n",
       "      <td>NaN</td>\n",
       "      <td>Documentary</td>\n",
       "      <td>...</td>\n",
       "      <td>NaN</td>\n",
       "      <td>NaN</td>\n",
       "      <td>NaN</td>\n",
       "      <td>NaN</td>\n",
       "      <td>NaN</td>\n",
       "      <td>NaN</td>\n",
       "      <td>12.0</td>\n",
       "      <td>7.1</td>\n",
       "      <td>NaN</td>\n",
       "      <td>0</td>\n",
       "    </tr>\n",
       "  </tbody>\n",
       "</table>\n",
       "<p>5 rows × 28 columns</p>\n",
       "</div>"
      ],
      "text/plain": [
       "   color      director_name  num_critic_for_reviews  duration  \\\n",
       "0  Color      James Cameron                   723.0     178.0   \n",
       "1  Color     Gore Verbinski                   302.0     169.0   \n",
       "2  Color         Sam Mendes                   602.0     148.0   \n",
       "3  Color  Christopher Nolan                   813.0     164.0   \n",
       "4    NaN        Doug Walker                     NaN       NaN   \n",
       "\n",
       "   director_facebook_likes  actor_3_facebook_likes      actor_2_name  \\\n",
       "0                      0.0                   855.0  Joel David Moore   \n",
       "1                    563.0                  1000.0     Orlando Bloom   \n",
       "2                      0.0                   161.0      Rory Kinnear   \n",
       "3                  22000.0                 23000.0    Christian Bale   \n",
       "4                    131.0                     NaN        Rob Walker   \n",
       "\n",
       "   actor_1_facebook_likes        gross                           genres  \\\n",
       "0                  1000.0  760505847.0  Action|Adventure|Fantasy|Sci-Fi   \n",
       "1                 40000.0  309404152.0         Action|Adventure|Fantasy   \n",
       "2                 11000.0  200074175.0        Action|Adventure|Thriller   \n",
       "3                 27000.0  448130642.0                  Action|Thriller   \n",
       "4                   131.0          NaN                      Documentary   \n",
       "\n",
       "          ...          num_user_for_reviews language  country  content_rating  \\\n",
       "0         ...                        3054.0  English      USA           PG-13   \n",
       "1         ...                        1238.0  English      USA           PG-13   \n",
       "2         ...                         994.0  English       UK           PG-13   \n",
       "3         ...                        2701.0  English      USA           PG-13   \n",
       "4         ...                           NaN      NaN      NaN             NaN   \n",
       "\n",
       "        budget  title_year actor_2_facebook_likes imdb_score  aspect_ratio  \\\n",
       "0  237000000.0      2009.0                  936.0        7.9          1.78   \n",
       "1  300000000.0      2007.0                 5000.0        7.1          2.35   \n",
       "2  245000000.0      2015.0                  393.0        6.8          2.35   \n",
       "3  250000000.0      2012.0                23000.0        8.5          2.35   \n",
       "4          NaN         NaN                   12.0        7.1           NaN   \n",
       "\n",
       "  movie_facebook_likes  \n",
       "0                33000  \n",
       "1                    0  \n",
       "2                85000  \n",
       "3               164000  \n",
       "4                    0  \n",
       "\n",
       "[5 rows x 28 columns]"
      ]
     },
     "execution_count": 3,
     "metadata": {},
     "output_type": "execute_result"
    }
   ],
   "source": [
    "df.head()"
   ]
  },
  {
   "cell_type": "code",
   "execution_count": 4,
   "metadata": {},
   "outputs": [
    {
     "name": "stdout",
     "output_type": "stream",
     "text": [
      "Variable dtypes:\n",
      "Director            object\n",
      "Actor 1             object\n",
      "Gross              float64\n",
      "Genre               object\n",
      "Actor 2             object\n",
      "Movie Name          object\n",
      "Number of Votes      int64\n",
      "Actor 3             object\n",
      "Country             object\n",
      "Rating              object\n",
      "Budget             float64\n",
      "Year               float64\n",
      "IMDB Score         float64\n",
      "dtype: object\n",
      "Variable dtypes:\n",
      "Director            object\n",
      "Actor 1             object\n",
      "Gross              float64\n",
      "Genre               object\n",
      "Actor 2             object\n",
      "Number of Votes      int64\n",
      "Actor 3             object\n",
      "Country             object\n",
      "Rating              object\n",
      "Budget             float64\n",
      "Year                 int64\n",
      "IMDB Score         float64\n",
      "dtype: object\n",
      "Variable dtypes:\n",
      "Director            object\n",
      "Actor 1             object\n",
      "Genre               object\n",
      "Actor 2             object\n",
      "Number of Votes      int64\n",
      "Actor 3             object\n",
      "Country             object\n",
      "Rating              object\n",
      "Year                 int64\n",
      "IMDB Score         float64\n",
      "Budget             float64\n",
      "Gross              float64\n",
      "dtype: object\n"
     ]
    }
   ],
   "source": [
    "# Drop columns\n",
    "df.drop(df.columns[[0,2,3,4,5,7,13,15,16,17,18,19,24,26,27]], axis=1, inplace=True)\n",
    "list(df)\n",
    "\n",
    "# Rename the Columns\n",
    "df.columns = ['Director','Actor 1','Gross','Genre','Actor 2','Movie Name','Number of Votes','Actor 3','Country', 'Rating', 'Budget', 'Year', 'IMDB Score']\n",
    "\n",
    "# Let's see what type variables are in our data frame\n",
    "print('Variable dtypes:\\n', df.dtypes, sep='')\n",
    "\n",
    "# Get average values for numeric variables\n",
    "df.mean()\n",
    "\n",
    "\n",
    "\n",
    "# Sort the data by thir gross revenue\n",
    "df = df.sort_values('Gross', ascending=False)\n",
    "df.head(5)\n",
    "\n",
    "\n",
    "# Let's clean up the data set a bit more\n",
    "\n",
    "# Remove duplicate movie names\n",
    "# Exclude data without Gross and Budget values\n",
    "# Reset the index \n",
    "\n",
    "df = df.drop_duplicates('Movie Name')\n",
    "df = df[pd.notnull(df['Gross']) & pd.notnull(df['Budget'])]\n",
    "\n",
    "df = df.set_index('Movie Name')\n",
    "df.head()\n",
    "\n",
    "# Year information has decimal numbers\n",
    "df['Year'].head()\n",
    "\n",
    "\n",
    "\n",
    "#change year to integer to get rid of decimal\n",
    "df['Year'] = df['Year'].astype(int)\n",
    "\n",
    "# Review our data types once more\n",
    "print('Variable dtypes:\\n', df.dtypes, sep='')\n",
    "\n",
    "\n",
    "\n",
    "\n",
    "# Notice that the movies with highest budget are from Korea, Hungary and Japan,\n",
    "\n",
    "\n",
    "df_bybudget = df.sort_values('Budget', ascending=False)\n",
    "df_bybudget['Country'].head(5)\n",
    "\n",
    "# Because of currency these movies will skew our analysis\n",
    "# To adjust, choose data from the US and UK movie industries only. \n",
    "# We want to include UK movies because the Bond movies and Harry Potter movies, \n",
    "# are listed as UK movies\n",
    "# Furthermore, the difference between dollar and pound is in orders of magnitude\n",
    "vlist = ['USA', 'UK']\n",
    "df = df[df['Country'].isin(vlist)]\n",
    "\n",
    "\n",
    "# Build a function to adjust dollar value in millions\n",
    "def millions(number):\n",
    "    '''show dollar value in millions'''\n",
    "    return number*(1/1000000)\n",
    "\n",
    "#Use this millions function to create new columns \n",
    "#   - \"Budget_inmillion\" and \n",
    "#   - \"Gross_inmillions\"\n",
    "budgetmillions = millions(df['Budget'])\n",
    "grossmillions = millions(df['Gross'])\n",
    "df = df.assign(Budget_inmillions=budgetmillions)\n",
    "df = df.assign(Gross_inmillions=grossmillions)\n",
    "\n",
    "# New column names are:\n",
    "list(df)\n",
    "\n",
    "# Now we can get rid of the old columns \"Budget\" and \"Gross\"\n",
    "df = df.drop(['Budget','Gross'], 1)\n",
    "\n",
    "# Rename the new values in millions as:\n",
    "#  \"Budget_inmillions\"  ---> \"Budget\"\n",
    "#  \"Gross_inmillions\"   ---> \"Gross\"\n",
    "df = df.rename(columns={'Budget_inmillions': 'Budget', 'Gross_inmillions': 'Gross'})\n",
    "# Let's look and our list of variables and their types\n",
    "print('Variable dtypes:\\n', df.dtypes, sep='')"
   ]
  },
  {
   "cell_type": "code",
   "execution_count": 5,
   "metadata": {
    "collapsed": true
   },
   "outputs": [],
   "source": [
    "# Create a new data frame called df_budget that has only\n",
    "# - Year\n",
    "# - Budget, and\n",
    "# - Gross\n",
    "# Drop every other column\n",
    "\n",
    "df_budget = df.drop(['Director','Actor 1','Actor 2','Actor 3','Genre','Country','Rating','IMDB Score','Number of Votes'], 1)\n",
    "\n"
   ]
  },
  {
   "cell_type": "code",
   "execution_count": 6,
   "metadata": {},
   "outputs": [
    {
     "data": {
      "text/plain": [
       "0.42452350874230294"
      ]
     },
     "execution_count": 6,
     "metadata": {},
     "output_type": "execute_result"
    },
    {
     "data": {
      "image/png": "[encoded data removed]",
      "text/plain": [
       "<matplotlib.figure.Figure at 0x11a408160>"
      ]
     },
     "metadata": {},
     "output_type": "display_data"
    }
   ],
   "source": [
    "## Budget vs. Gross Revenue\n",
    "# Look at the relationship between Budget and Gross profit. \n",
    "# Big Hollywood studios tend to invest millions of dollars in productions they want to see perform well. \n",
    "# Assumption is that movies with big budgets often become global blockbusters, \n",
    "# given the amount invested in special effects, marketing & advertising, etc. \n",
    "# Let's see if this is actually true\n",
    "\n",
    "sns.regplot(x = 'Gross', y = 'Budget', data=df_budget)\n",
    "\n",
    "# If we run regression on the Budget vs Gross income data, \n",
    "# rSquare value is although positive but not that convincing\n",
    "import numpy as np\n",
    "\n",
    "import statsmodels.formula.api as smf\n",
    "# regression = sm.ols(y=df_budget['Budget'],x=df_budget['Gross'])\n",
    "regression = smf.ols('Budget ~ Gross ', data=df_budget).fit()\n",
    "regression.rsquared\n",
    "\n",
    "# This indicates that the higher the average production budget, \n",
    "# the higher the movie's box office performance. \n",
    "# This can be explained by a number of factors: \n",
    "#   - increased spending on marketing, \n",
    "#   - expensive special effects to attract a wider audience, \n",
    "#   - elaborate action sequences, \n",
    "#   - famous high-paid actors, etc. \n",
    "\n",
    "# However, one issue in our data set is that we didn't account for inflation, \n",
    "# and considering it includes movies from the 1930s onwards, \n",
    "# it wouldn't make sense to compare old movies to newer ones. \n"
   ]
  },
  {
   "cell_type": "code",
   "execution_count": 7,
   "metadata": {},
   "outputs": [
    {
     "data": {
      "text/plain": [
       "0.509812878838517"
      ]
     },
     "execution_count": 7,
     "metadata": {},
     "output_type": "execute_result"
    },
    {
     "data": {
      "image/png": "[encoded data removed]",
      "text/plain": [
       "<matplotlib.figure.Figure at 0x11a408198>"
      ]
     },
     "metadata": {},
     "output_type": "display_data"
    }
   ],
   "source": [
    "### Focusing on data post-2000\n",
    "\n",
    "# let's focus on movies post-2000. \n",
    "# Since it's not long period of time, the impact of inflation will not bw that pronounced\n",
    "\n",
    "\n",
    "# Start with sorting the df_budget table by year\n",
    "df_budget = df_budget.sort_values('Year', ascending=False)\n",
    "df_budget.head()\n",
    "\n",
    "# Select only the movies from 2000 to 2017\n",
    "yearlist = range(2000,2017)\n",
    "df_newbudget = df_budget[df_budget['Year'].isin(yearlist)]\n",
    "\n",
    "\n",
    "# Look at the scatter plot\n",
    "sns.regplot(x = 'Gross', y = 'Budget', data=df_newbudget)\n",
    "\n",
    "\n",
    "regression = smf.ols('Budget ~ Gross', data=df_newbudget).fit()\n",
    "regression.rsquared\n",
    "\n",
    "# rSquared value now has increased to 0.51, \n",
    "# meaning that we're on the right path \n",
    "# there is a correlation between budget and box office grosses, \n",
    "# confirming our initital hypothesis that higher production costs, on average, \n",
    "# lead to higher revenues (given the amount invested in star power, marketing, etc.) "
   ]
  },
  {
   "cell_type": "markdown",
   "metadata": {},
   "source": [
    "## (1) Budget vs. Gross Revenue"
   ]
  },
  {
   "cell_type": "code",
   "execution_count": 8,
   "metadata": {},
   "outputs": [
    {
     "data": {
      "text/plain": [
       "<matplotlib.text.Text at 0x11bd9f7b8>"
      ]
     },
     "execution_count": 8,
     "metadata": {},
     "output_type": "execute_result"
    },
    {
     "data": {
      "image/png": "[encoded data removed]",
      "text/plain": [
       "<matplotlib.figure.Figure at 0x11ad39ac8>"
      ]
     },
     "metadata": {},
     "output_type": "display_data"
    }
   ],
   "source": [
    "# To better visualize this relationship, let's bin budget ranges into buckets \n",
    "# (0-1, 1-10, 10-50, 50-100, 100-150, and 150-300) and \n",
    "# add a new column called \"Avg Budget\" with these new values\n",
    "\n",
    "bins = [0,1,10,50,100,150,301]\n",
    "group_names = ['0-1','1-10','10-50','50-100','100-150','150-300']\n",
    "\n",
    "df_budget = df_budget.sort_values('Budget', ascending=False)\n",
    "categories = pd.cut(df_budget['Budget'], bins, labels=group_names)\n",
    "df_budget['Avg Budget'] = pd.cut(df_budget['Budget'], bins, labels=group_names)\n",
    "\n",
    "# lets look at how many movies are in each budget range\n",
    "pd.value_counts(df_budget['Avg Budget'])\n",
    "\n",
    "# Generate a bar chart of gross revenues.\n",
    "f, ax = plt.subplots(figsize=(10, 5))\n",
    "Budget = sns.barplot(x=\"Avg Budget\", y=\"Gross\", data=df_budget, palette=\"Set3\")\n",
    "Budget.axes.set_title('Average Budget v. Gross Revenue', fontsize=15,color=\"r\",alpha=0.5)"
   ]
  },
  {
   "cell_type": "markdown",
   "metadata": {},
   "source": [
    "## (2) IMDB Ratings vs Gross Revenue\n",
    "\n",
    "-- Provide your solution"
   ]
  },
  {
   "cell_type": "code",
   "execution_count": 9,
   "metadata": {},
   "outputs": [
    {
     "data": {
      "text/plain": [
       "Movie Name\n",
       "Justin Bieber: Never Say Never     1.6\n",
       "Disaster Movie                     1.9\n",
       "Who's Your Caddy?                  2.0\n",
       "Crossover                          2.1\n",
       "From Justin to Kelly               2.1\n",
       "Name: IMDB Score, dtype: float64"
      ]
     },
     "execution_count": 9,
     "metadata": {},
     "output_type": "execute_result"
    }
   ],
   "source": [
    "#Sort IMDB Score and check sample data\n",
    "df = df.sort_values('IMDB Score', ascending=True)\n",
    "df['IMDB Score'].head()"
   ]
  },
  {
   "cell_type": "code",
   "execution_count": 10,
   "metadata": {},
   "outputs": [
    {
     "data": {
      "text/html": [
       "<div>\n",
       "<style>\n",
       "    .dataframe thead tr:only-child th {\n",
       "        text-align: right;\n",
       "    }\n",
       "\n",
       "    .dataframe thead th {\n",
       "        text-align: left;\n",
       "    }\n",
       "\n",
       "    .dataframe tbody tr th {\n",
       "        vertical-align: top;\n",
       "    }\n",
       "</style>\n",
       "<table border=\"1\" class=\"dataframe\">\n",
       "  <thead>\n",
       "    <tr style=\"text-align: right;\">\n",
       "      <th></th>\n",
       "      <th>Director</th>\n",
       "      <th>Actor 1</th>\n",
       "      <th>Genre</th>\n",
       "      <th>Actor 2</th>\n",
       "      <th>Number of Votes</th>\n",
       "      <th>Actor 3</th>\n",
       "      <th>Country</th>\n",
       "      <th>Rating</th>\n",
       "      <th>Year</th>\n",
       "      <th>IMDB Score</th>\n",
       "      <th>Budget</th>\n",
       "      <th>Gross</th>\n",
       "    </tr>\n",
       "    <tr>\n",
       "      <th>Movie Name</th>\n",
       "      <th></th>\n",
       "      <th></th>\n",
       "      <th></th>\n",
       "      <th></th>\n",
       "      <th></th>\n",
       "      <th></th>\n",
       "      <th></th>\n",
       "      <th></th>\n",
       "      <th></th>\n",
       "      <th></th>\n",
       "      <th></th>\n",
       "      <th></th>\n",
       "    </tr>\n",
       "  </thead>\n",
       "  <tbody>\n",
       "    <tr>\n",
       "      <th>Justin Bieber: Never Say Never</th>\n",
       "      <td>Jon M. Chu</td>\n",
       "      <td>Sean Kingston</td>\n",
       "      <td>Documentary|Music</td>\n",
       "      <td>Usher Raymond</td>\n",
       "      <td>74351</td>\n",
       "      <td>Boys II Men</td>\n",
       "      <td>USA</td>\n",
       "      <td>G</td>\n",
       "      <td>2011</td>\n",
       "      <td>1.6</td>\n",
       "      <td>13.0</td>\n",
       "      <td>73.000942</td>\n",
       "    </tr>\n",
       "    <tr>\n",
       "      <th>Disaster Movie</th>\n",
       "      <td>Jason Friedberg</td>\n",
       "      <td>Tony Cox</td>\n",
       "      <td>Comedy</td>\n",
       "      <td>Carmen Electra</td>\n",
       "      <td>74945</td>\n",
       "      <td>Ike Barinholtz</td>\n",
       "      <td>USA</td>\n",
       "      <td>PG-13</td>\n",
       "      <td>2008</td>\n",
       "      <td>1.9</td>\n",
       "      <td>25.0</td>\n",
       "      <td>14.174654</td>\n",
       "    </tr>\n",
       "    <tr>\n",
       "      <th>Who's Your Caddy?</th>\n",
       "      <td>Don Michael Paul</td>\n",
       "      <td>Faizon Love</td>\n",
       "      <td>Comedy|Sport</td>\n",
       "      <td>Jeffrey Jones</td>\n",
       "      <td>13815</td>\n",
       "      <td>Lil' Wayne</td>\n",
       "      <td>USA</td>\n",
       "      <td>PG-13</td>\n",
       "      <td>2007</td>\n",
       "      <td>2.0</td>\n",
       "      <td>7.0</td>\n",
       "      <td>5.694308</td>\n",
       "    </tr>\n",
       "    <tr>\n",
       "      <th>Crossover</th>\n",
       "      <td>Preston A. Whitmore II</td>\n",
       "      <td>Wayne Brady</td>\n",
       "      <td>Action|Sport</td>\n",
       "      <td>Wesley Jonathan</td>\n",
       "      <td>8707</td>\n",
       "      <td>Eva Marcille</td>\n",
       "      <td>USA</td>\n",
       "      <td>PG-13</td>\n",
       "      <td>2006</td>\n",
       "      <td>2.1</td>\n",
       "      <td>5.6</td>\n",
       "      <td>7.009668</td>\n",
       "    </tr>\n",
       "    <tr>\n",
       "      <th>From Justin to Kelly</th>\n",
       "      <td>Robert Iscove</td>\n",
       "      <td>Kelly Clarkson</td>\n",
       "      <td>Comedy|Musical|Romance</td>\n",
       "      <td>Anika Noni Rose</td>\n",
       "      <td>23606</td>\n",
       "      <td>Brian Dietzen</td>\n",
       "      <td>USA</td>\n",
       "      <td>PG</td>\n",
       "      <td>2003</td>\n",
       "      <td>2.1</td>\n",
       "      <td>12.0</td>\n",
       "      <td>4.922166</td>\n",
       "    </tr>\n",
       "  </tbody>\n",
       "</table>\n",
       "</div>"
      ],
      "text/plain": [
       "                                               Director         Actor 1  \\\n",
       "Movie Name                                                                \n",
       "Justin Bieber: Never Say Never               Jon M. Chu   Sean Kingston   \n",
       "Disaster Movie                          Jason Friedberg        Tony Cox   \n",
       "Who's Your Caddy?                      Don Michael Paul     Faizon Love   \n",
       "Crossover                        Preston A. Whitmore II     Wayne Brady   \n",
       "From Justin to Kelly                      Robert Iscove  Kelly Clarkson   \n",
       "\n",
       "                                                  Genre          Actor 2  \\\n",
       "Movie Name                                                                 \n",
       "Justin Bieber: Never Say Never        Documentary|Music    Usher Raymond   \n",
       "Disaster Movie                                   Comedy   Carmen Electra   \n",
       "Who's Your Caddy?                          Comedy|Sport    Jeffrey Jones   \n",
       "Crossover                                  Action|Sport  Wesley Jonathan   \n",
       "From Justin to Kelly             Comedy|Musical|Romance  Anika Noni Rose   \n",
       "\n",
       "                                 Number of Votes         Actor 3 Country  \\\n",
       "Movie Name                                                                 \n",
       "Justin Bieber: Never Say Never             74351     Boys II Men     USA   \n",
       "Disaster Movie                             74945  Ike Barinholtz     USA   \n",
       "Who's Your Caddy?                          13815      Lil' Wayne     USA   \n",
       "Crossover                                   8707    Eva Marcille     USA   \n",
       "From Justin to Kelly                       23606   Brian Dietzen     USA   \n",
       "\n",
       "                                Rating  Year  IMDB Score  Budget      Gross  \n",
       "Movie Name                                                                   \n",
       "Justin Bieber: Never Say Never       G  2011         1.6    13.0  73.000942  \n",
       "Disaster Movie                   PG-13  2008         1.9    25.0  14.174654  \n",
       "Who's Your Caddy?                PG-13  2007         2.0     7.0   5.694308  \n",
       "Crossover                        PG-13  2006         2.1     5.6   7.009668  \n",
       "From Justin to Kelly                PG  2003         2.1    12.0   4.922166  "
      ]
     },
     "execution_count": 10,
     "metadata": {},
     "output_type": "execute_result"
    }
   ],
   "source": [
    "df.head()"
   ]
  },
  {
   "cell_type": "code",
   "execution_count": 11,
   "metadata": {
    "collapsed": true
   },
   "outputs": [],
   "source": [
    "#Normalise IMDB score. Bin rating into ranges.\n",
    "bins = [0,1,2,3,4,5,6,7,8,9,10]\n",
    "group_names = ['0-1','1-2','2-3','3-4','4-5','5-6','6-7','7-8','8-9','9-10']\n",
    "df['Normalised IMDB Score'] = pd.cut(df['IMDB Score'], bins, labels=group_names)"
   ]
  },
  {
   "cell_type": "code",
   "execution_count": 12,
   "metadata": {},
   "outputs": [
    {
     "data": {
      "text/plain": [
       "<matplotlib.text.Text at 0x11bcda4e0>"
      ]
     },
     "execution_count": 12,
     "metadata": {},
     "output_type": "execute_result"
    },
    {
     "data": {
      "image/png": "[encoded data removed]",
      "text/plain": [
       "<matplotlib.figure.Figure at 0x11bd0a860>"
      ]
     },
     "metadata": {},
     "output_type": "display_data"
    }
   ],
   "source": [
    "f, ax = plt.subplots(figsize = (10,5))\n",
    "ratingVgross = sns.barplot(x=\"Normalised IMDB Score\", y = \"Gross\", data = df, palette = \"Set3\")\n",
    "ratingVgross.axes.set_title('Ratings(IMDB Score) vs. Gross Revenue', fontsize=15,color=\"r\",alpha=0.5)\n",
    "#Movies having IMDB Score higher than 8, does good business."
   ]
  },
  {
   "cell_type": "markdown",
   "metadata": {},
   "source": [
    "## (3) MPAA Ratings vs. Gross Revenue\n",
    "\n",
    "-- Provide your solution"
   ]
  },
  {
   "cell_type": "code",
   "execution_count": 13,
   "metadata": {},
   "outputs": [
    {
     "data": {
      "text/plain": [
       "array(['G', 'PG-13', 'PG', 'R', 'Not Rated', nan, 'X', 'NC-17', 'Unrated',\n",
       "       'Passed', 'GP', 'Approved', 'M'], dtype=object)"
      ]
     },
     "execution_count": 13,
     "metadata": {},
     "output_type": "execute_result"
    }
   ],
   "source": [
    "#Get the type different type of ratings\n",
    "df.Rating.unique()"
   ]
  },
  {
   "cell_type": "code",
   "execution_count": 14,
   "metadata": {
    "scrolled": true
   },
   "outputs": [
    {
     "data": {
      "text/plain": [
       "<matplotlib.text.Text at 0x11bce9be0>"
      ]
     },
     "execution_count": 14,
     "metadata": {},
     "output_type": "execute_result"
    },
    {
     "data": {
      "image/png": "[encoded data removed]",
      "text/plain": [
       "<matplotlib.figure.Figure at 0x11b223208>"
      ]
     },
     "metadata": {},
     "output_type": "display_data"
    }
   ],
   "source": [
    "f, ax = plt.subplots(figsize = (10,5))\n",
    "mratingVplot = sns.barplot(x=\"Rating\", y = \"Gross\", data = df, palette = \"Set3\")\n",
    "mratingVplot.axes.set_title('MPAA Ratings vs. Gross Revenue', fontsize=15,color=\"r\",alpha=0.5)\n",
    "#Movies with Rating G and "
   ]
  },
  {
   "cell_type": "code",
   "execution_count": 15,
   "metadata": {},
   "outputs": [
    {
     "data": {
      "text/html": [
       "<div>\n",
       "<style>\n",
       "    .dataframe thead tr:only-child th {\n",
       "        text-align: right;\n",
       "    }\n",
       "\n",
       "    .dataframe thead th {\n",
       "        text-align: left;\n",
       "    }\n",
       "\n",
       "    .dataframe tbody tr th {\n",
       "        vertical-align: top;\n",
       "    }\n",
       "</style>\n",
       "<table border=\"1\" class=\"dataframe\">\n",
       "  <thead>\n",
       "    <tr style=\"text-align: right;\">\n",
       "      <th></th>\n",
       "      <th>Director</th>\n",
       "      <th>Actor 1</th>\n",
       "      <th>Genre</th>\n",
       "      <th>Actor 2</th>\n",
       "      <th>Number of Votes</th>\n",
       "      <th>Actor 3</th>\n",
       "      <th>Country</th>\n",
       "      <th>Rating</th>\n",
       "      <th>Year</th>\n",
       "      <th>IMDB Score</th>\n",
       "      <th>Budget</th>\n",
       "      <th>Gross</th>\n",
       "      <th>Normalised IMDB Score</th>\n",
       "    </tr>\n",
       "    <tr>\n",
       "      <th>Movie Name</th>\n",
       "      <th></th>\n",
       "      <th></th>\n",
       "      <th></th>\n",
       "      <th></th>\n",
       "      <th></th>\n",
       "      <th></th>\n",
       "      <th></th>\n",
       "      <th></th>\n",
       "      <th></th>\n",
       "      <th></th>\n",
       "      <th></th>\n",
       "      <th></th>\n",
       "      <th></th>\n",
       "    </tr>\n",
       "  </thead>\n",
       "  <tbody>\n",
       "    <tr>\n",
       "      <th>Justin Bieber: Never Say Never</th>\n",
       "      <td>Jon M. Chu</td>\n",
       "      <td>Sean Kingston</td>\n",
       "      <td>Documentary|Music</td>\n",
       "      <td>Usher Raymond</td>\n",
       "      <td>74351</td>\n",
       "      <td>Boys II Men</td>\n",
       "      <td>USA</td>\n",
       "      <td>G</td>\n",
       "      <td>2011</td>\n",
       "      <td>1.6</td>\n",
       "      <td>13.0</td>\n",
       "      <td>73.000942</td>\n",
       "      <td>1-2</td>\n",
       "    </tr>\n",
       "    <tr>\n",
       "      <th>Disaster Movie</th>\n",
       "      <td>Jason Friedberg</td>\n",
       "      <td>Tony Cox</td>\n",
       "      <td>Comedy</td>\n",
       "      <td>Carmen Electra</td>\n",
       "      <td>74945</td>\n",
       "      <td>Ike Barinholtz</td>\n",
       "      <td>USA</td>\n",
       "      <td>PG-13</td>\n",
       "      <td>2008</td>\n",
       "      <td>1.9</td>\n",
       "      <td>25.0</td>\n",
       "      <td>14.174654</td>\n",
       "      <td>1-2</td>\n",
       "    </tr>\n",
       "    <tr>\n",
       "      <th>Who's Your Caddy?</th>\n",
       "      <td>Don Michael Paul</td>\n",
       "      <td>Faizon Love</td>\n",
       "      <td>Comedy|Sport</td>\n",
       "      <td>Jeffrey Jones</td>\n",
       "      <td>13815</td>\n",
       "      <td>Lil' Wayne</td>\n",
       "      <td>USA</td>\n",
       "      <td>PG-13</td>\n",
       "      <td>2007</td>\n",
       "      <td>2.0</td>\n",
       "      <td>7.0</td>\n",
       "      <td>5.694308</td>\n",
       "      <td>1-2</td>\n",
       "    </tr>\n",
       "    <tr>\n",
       "      <th>Crossover</th>\n",
       "      <td>Preston A. Whitmore II</td>\n",
       "      <td>Wayne Brady</td>\n",
       "      <td>Action|Sport</td>\n",
       "      <td>Wesley Jonathan</td>\n",
       "      <td>8707</td>\n",
       "      <td>Eva Marcille</td>\n",
       "      <td>USA</td>\n",
       "      <td>PG-13</td>\n",
       "      <td>2006</td>\n",
       "      <td>2.1</td>\n",
       "      <td>5.6</td>\n",
       "      <td>7.009668</td>\n",
       "      <td>2-3</td>\n",
       "    </tr>\n",
       "    <tr>\n",
       "      <th>From Justin to Kelly</th>\n",
       "      <td>Robert Iscove</td>\n",
       "      <td>Kelly Clarkson</td>\n",
       "      <td>Comedy|Musical|Romance</td>\n",
       "      <td>Anika Noni Rose</td>\n",
       "      <td>23606</td>\n",
       "      <td>Brian Dietzen</td>\n",
       "      <td>USA</td>\n",
       "      <td>PG</td>\n",
       "      <td>2003</td>\n",
       "      <td>2.1</td>\n",
       "      <td>12.0</td>\n",
       "      <td>4.922166</td>\n",
       "      <td>2-3</td>\n",
       "    </tr>\n",
       "  </tbody>\n",
       "</table>\n",
       "</div>"
      ],
      "text/plain": [
       "                                               Director         Actor 1  \\\n",
       "Movie Name                                                                \n",
       "Justin Bieber: Never Say Never               Jon M. Chu   Sean Kingston   \n",
       "Disaster Movie                          Jason Friedberg        Tony Cox   \n",
       "Who's Your Caddy?                      Don Michael Paul     Faizon Love   \n",
       "Crossover                        Preston A. Whitmore II     Wayne Brady   \n",
       "From Justin to Kelly                      Robert Iscove  Kelly Clarkson   \n",
       "\n",
       "                                                  Genre          Actor 2  \\\n",
       "Movie Name                                                                 \n",
       "Justin Bieber: Never Say Never        Documentary|Music    Usher Raymond   \n",
       "Disaster Movie                                   Comedy   Carmen Electra   \n",
       "Who's Your Caddy?                          Comedy|Sport    Jeffrey Jones   \n",
       "Crossover                                  Action|Sport  Wesley Jonathan   \n",
       "From Justin to Kelly             Comedy|Musical|Romance  Anika Noni Rose   \n",
       "\n",
       "                                 Number of Votes         Actor 3 Country  \\\n",
       "Movie Name                                                                 \n",
       "Justin Bieber: Never Say Never             74351     Boys II Men     USA   \n",
       "Disaster Movie                             74945  Ike Barinholtz     USA   \n",
       "Who's Your Caddy?                          13815      Lil' Wayne     USA   \n",
       "Crossover                                   8707    Eva Marcille     USA   \n",
       "From Justin to Kelly                       23606   Brian Dietzen     USA   \n",
       "\n",
       "                                Rating  Year  IMDB Score  Budget      Gross  \\\n",
       "Movie Name                                                                    \n",
       "Justin Bieber: Never Say Never       G  2011         1.6    13.0  73.000942   \n",
       "Disaster Movie                   PG-13  2008         1.9    25.0  14.174654   \n",
       "Who's Your Caddy?                PG-13  2007         2.0     7.0   5.694308   \n",
       "Crossover                        PG-13  2006         2.1     5.6   7.009668   \n",
       "From Justin to Kelly                PG  2003         2.1    12.0   4.922166   \n",
       "\n",
       "                                Normalised IMDB Score  \n",
       "Movie Name                                             \n",
       "Justin Bieber: Never Say Never                    1-2  \n",
       "Disaster Movie                                    1-2  \n",
       "Who's Your Caddy?                                 1-2  \n",
       "Crossover                                         2-3  \n",
       "From Justin to Kelly                              2-3  "
      ]
     },
     "execution_count": 15,
     "metadata": {},
     "output_type": "execute_result"
    }
   ],
   "source": [
    "\n",
    "df.head()"
   ]
  },
  {
   "cell_type": "code",
   "execution_count": 16,
   "metadata": {
    "collapsed": true
   },
   "outputs": [],
   "source": [
    "#Create a function to split the column's data having '|' as delimiter\n",
    "def expand_col(df_src, col, sep='|'): \n",
    "    di = {} # declare empty dictionary\n",
    "    idx = 0\n",
    "    for i in df_src.iterrows(): #iterrows() is used to iterate over dataframes\n",
    "        d = i[1] #read \n",
    "        names = d[col].split(sep) # splits the column using '|' as the separator\n",
    "        for name in names:\n",
    "            # operate on a copy to not overwrite previous existing data \n",
    "            c = d.copy()\n",
    "            c[col] = name\n",
    "            di[idx] = c\n",
    "            idx += 1\n",
    "            \n",
    "    df_new = pd.DataFrame(di).transpose()\n",
    "    return df_new"
   ]
  },
  {
   "cell_type": "code",
   "execution_count": 17,
   "metadata": {},
   "outputs": [
    {
     "data": {
      "text/plain": [
       "(9771, 13)"
      ]
     },
     "execution_count": 17,
     "metadata": {},
     "output_type": "execute_result"
    }
   ],
   "source": [
    "#call function by passing the arguments of data frame and column.  \n",
    "df_gen = expand_col(df, 'Genre')\n",
    "df_gen.shape\n",
    "\n"
   ]
  },
  {
   "cell_type": "code",
   "execution_count": 18,
   "metadata": {},
   "outputs": [
    {
     "data": {
      "text/plain": [
       "<matplotlib.text.Text at 0x11d043400>"
      ]
     },
     "execution_count": 18,
     "metadata": {},
     "output_type": "execute_result"
    },
    {
     "data": {
      "image/png": "[encoded data removed]",
      "text/plain": [
       "<matplotlib.figure.Figure at 0x11d1a18d0>"
      ]
     },
     "metadata": {},
     "output_type": "display_data"
    }
   ],
   "source": [
    "f, ax = plt.subplots(figsize = (20,10))\n",
    "genreplot = sns.barplot(x=\"Genre\", y = \"Gross\", data = df_gen, palette = \"Set3\")\n",
    "plt.xticks(rotation=90)\n",
    "genreplot.axes.set_title('Genre vs. Gross Revenue', fontsize=15,color=\"salmon\",alpha=0.9)"
   ]
  },
  {
   "cell_type": "markdown",
   "metadata": {},
   "source": [
    "## (5) Director Popularity vs Gross Revenue\n",
    "\n",
    "- Our dataset does not contain any indicators of director popularity (the \"Facebook Likes\" column contains too many wrong or missing values). \n",
    "- Focus on the ones who directed the highest number of movies. Studios only hire directors to direct again if their movies have been successful in the past or if they are famous, with the hopes that the director will repeat his or her success or the value of their celebrity will attract enough attention to the movie to generate profit. "
   ]
  },
  {
   "cell_type": "code",
   "execution_count": 19,
   "metadata": {},
   "outputs": [
    {
     "data": {
      "text/plain": [
       "<matplotlib.text.Text at 0x11c8e1080>"
      ]
     },
     "execution_count": 19,
     "metadata": {},
     "output_type": "execute_result"
    },
    {
     "data": {
      "image/png": "[encoded data removed]",
      "text/plain": [
       "<matplotlib.figure.Figure at 0x11ca065f8>"
      ]
     },
     "metadata": {},
     "output_type": "display_data"
    }
   ],
   "source": [
    "df_director = df.drop(['Actor 1','Actor 2','Actor 3','Number of Votes','Genre','Country','Rating','IMDB Score','Budget','Year'], 1)\n",
    "df_director.head()\n",
    "\n",
    "df_director['Value Counts'] = df_director.groupby('Director')['Director'].transform('count')\n",
    "df_director.head()\n",
    "\n",
    "df_director['Director'].value_counts()\n",
    "\n",
    "df_director[df_director['Director'].str.contains(\"Steven Spielberg\",na=False)].head()\n",
    "\n",
    "bins = [0,12,30]\n",
    "group_names = ['Less than 12','More than 12']\n",
    "categories = pd.cut(df_director['Value Counts'], bins, labels=group_names)\n",
    "df_director['Popularity of Director'] = pd.cut(df_director['Value Counts'], bins, labels=group_names)\n",
    "categories.head(5)\n",
    "\n",
    "pd.value_counts(df_director['Popularity of Director'])\n",
    "\n",
    "f, ax = plt.subplots(figsize=(5, 7))\n",
    "Fame = sns.barplot(x=\"Popularity of Director\", y=\"Gross\", data=df_director, palette=\"Set3\")\n",
    "Fame.axes.set_title('Popularity of Director v. Gross', fontsize=15,color=\"r\",alpha=0.5)"
   ]
  },
  {
   "cell_type": "code",
   "execution_count": 20,
   "metadata": {},
   "outputs": [
    {
     "data": {
      "text/html": [
       "<div>\n",
       "<style>\n",
       "    .dataframe thead tr:only-child th {\n",
       "        text-align: right;\n",
       "    }\n",
       "\n",
       "    .dataframe thead th {\n",
       "        text-align: left;\n",
       "    }\n",
       "\n",
       "    .dataframe tbody tr th {\n",
       "        vertical-align: top;\n",
       "    }\n",
       "</style>\n",
       "<table border=\"1\" class=\"dataframe\">\n",
       "  <thead>\n",
       "    <tr style=\"text-align: right;\">\n",
       "      <th></th>\n",
       "      <th>Director</th>\n",
       "      <th>Gross</th>\n",
       "      <th>Normalised IMDB Score</th>\n",
       "      <th>Value Counts</th>\n",
       "      <th>Popularity of Director</th>\n",
       "    </tr>\n",
       "    <tr>\n",
       "      <th>Movie Name</th>\n",
       "      <th></th>\n",
       "      <th></th>\n",
       "      <th></th>\n",
       "      <th></th>\n",
       "      <th></th>\n",
       "    </tr>\n",
       "  </thead>\n",
       "  <tbody>\n",
       "    <tr>\n",
       "      <th>Indiana Jones and the Kingdom of the Crystal Skull</th>\n",
       "      <td>Steven Spielberg</td>\n",
       "      <td>317.011114</td>\n",
       "      <td>6-7</td>\n",
       "      <td>24</td>\n",
       "      <td>More than 12</td>\n",
       "    </tr>\n",
       "    <tr>\n",
       "      <th>War of the Worlds</th>\n",
       "      <td>Steven Spielberg</td>\n",
       "      <td>234.277056</td>\n",
       "      <td>6-7</td>\n",
       "      <td>24</td>\n",
       "      <td>More than 12</td>\n",
       "    </tr>\n",
       "    <tr>\n",
       "      <th>The Lost World: Jurassic Park</th>\n",
       "      <td>Steven Spielberg</td>\n",
       "      <td>229.074524</td>\n",
       "      <td>6-7</td>\n",
       "      <td>24</td>\n",
       "      <td>More than 12</td>\n",
       "    </tr>\n",
       "    <tr>\n",
       "      <th>Hook</th>\n",
       "      <td>Steven Spielberg</td>\n",
       "      <td>119.654900</td>\n",
       "      <td>6-7</td>\n",
       "      <td>24</td>\n",
       "      <td>More than 12</td>\n",
       "    </tr>\n",
       "    <tr>\n",
       "      <th>The BFG</th>\n",
       "      <td>Steven Spielberg</td>\n",
       "      <td>52.792307</td>\n",
       "      <td>6-7</td>\n",
       "      <td>24</td>\n",
       "      <td>More than 12</td>\n",
       "    </tr>\n",
       "  </tbody>\n",
       "</table>\n",
       "</div>"
      ],
      "text/plain": [
       "                                                            Director  \\\n",
       "Movie Name                                                             \n",
       "Indiana Jones and the Kingdom of the Crystal Sk...  Steven Spielberg   \n",
       "War of the Worlds                                   Steven Spielberg   \n",
       "The Lost World: Jurassic Park                       Steven Spielberg   \n",
       "Hook                                                Steven Spielberg   \n",
       "The BFG                                             Steven Spielberg   \n",
       "\n",
       "                                                         Gross  \\\n",
       "Movie Name                                                       \n",
       "Indiana Jones and the Kingdom of the Crystal Sk...  317.011114   \n",
       "War of the Worlds                                   234.277056   \n",
       "The Lost World: Jurassic Park                       229.074524   \n",
       "Hook                                                119.654900   \n",
       "The BFG                                              52.792307   \n",
       "\n",
       "                                                   Normalised IMDB Score  \\\n",
       "Movie Name                                                                 \n",
       "Indiana Jones and the Kingdom of the Crystal Sk...                   6-7   \n",
       "War of the Worlds                                                    6-7   \n",
       "The Lost World: Jurassic Park                                        6-7   \n",
       "Hook                                                                 6-7   \n",
       "The BFG                                                              6-7   \n",
       "\n",
       "                                                    Value Counts  \\\n",
       "Movie Name                                                         \n",
       "Indiana Jones and the Kingdom of the Crystal Sk...            24   \n",
       "War of the Worlds                                             24   \n",
       "The Lost World: Jurassic Park                                 24   \n",
       "Hook                                                          24   \n",
       "The BFG                                                       24   \n",
       "\n",
       "                                                   Popularity of Director  \n",
       "Movie Name                                                                 \n",
       "Indiana Jones and the Kingdom of the Crystal Sk...           More than 12  \n",
       "War of the Worlds                                            More than 12  \n",
       "The Lost World: Jurassic Park                                More than 12  \n",
       "Hook                                                         More than 12  \n",
       "The BFG                                                      More than 12  "
      ]
     },
     "execution_count": 20,
     "metadata": {},
     "output_type": "execute_result"
    }
   ],
   "source": [
    "df_director[df_director['Director'].str.contains(\"Steven Spielberg\",na=False)].head()\n",
    "#df_director.head()"
   ]
  },
  {
   "cell_type": "markdown",
   "metadata": {},
   "source": [
    "## (6) Star Power vs Gross Revenue\n",
    "Implement the same rationale for actors as we did for director to identify star power and provide your solution"
   ]
  },
  {
   "cell_type": "code",
   "execution_count": 21,
   "metadata": {},
   "outputs": [
    {
     "data": {
      "text/html": [
       "<div>\n",
       "<style>\n",
       "    .dataframe thead tr:only-child th {\n",
       "        text-align: right;\n",
       "    }\n",
       "\n",
       "    .dataframe thead th {\n",
       "        text-align: left;\n",
       "    }\n",
       "\n",
       "    .dataframe tbody tr th {\n",
       "        vertical-align: top;\n",
       "    }\n",
       "</style>\n",
       "<table border=\"1\" class=\"dataframe\">\n",
       "  <thead>\n",
       "    <tr style=\"text-align: right;\">\n",
       "      <th></th>\n",
       "      <th>Director</th>\n",
       "      <th>Actor 1</th>\n",
       "      <th>Actor 2</th>\n",
       "      <th>Actor 3</th>\n",
       "      <th>Gross</th>\n",
       "      <th>Normalised IMDB Score</th>\n",
       "    </tr>\n",
       "    <tr>\n",
       "      <th>Movie Name</th>\n",
       "      <th></th>\n",
       "      <th></th>\n",
       "      <th></th>\n",
       "      <th></th>\n",
       "      <th></th>\n",
       "      <th></th>\n",
       "    </tr>\n",
       "  </thead>\n",
       "  <tbody>\n",
       "    <tr>\n",
       "      <th>Justin Bieber: Never Say Never</th>\n",
       "      <td>Jon M. Chu</td>\n",
       "      <td>Sean Kingston</td>\n",
       "      <td>Usher Raymond</td>\n",
       "      <td>Boys II Men</td>\n",
       "      <td>73.000942</td>\n",
       "      <td>1-2</td>\n",
       "    </tr>\n",
       "    <tr>\n",
       "      <th>Disaster Movie</th>\n",
       "      <td>Jason Friedberg</td>\n",
       "      <td>Tony Cox</td>\n",
       "      <td>Carmen Electra</td>\n",
       "      <td>Ike Barinholtz</td>\n",
       "      <td>14.174654</td>\n",
       "      <td>1-2</td>\n",
       "    </tr>\n",
       "    <tr>\n",
       "      <th>Who's Your Caddy?</th>\n",
       "      <td>Don Michael Paul</td>\n",
       "      <td>Faizon Love</td>\n",
       "      <td>Jeffrey Jones</td>\n",
       "      <td>Lil' Wayne</td>\n",
       "      <td>5.694308</td>\n",
       "      <td>1-2</td>\n",
       "    </tr>\n",
       "    <tr>\n",
       "      <th>Crossover</th>\n",
       "      <td>Preston A. Whitmore II</td>\n",
       "      <td>Wayne Brady</td>\n",
       "      <td>Wesley Jonathan</td>\n",
       "      <td>Eva Marcille</td>\n",
       "      <td>7.009668</td>\n",
       "      <td>2-3</td>\n",
       "    </tr>\n",
       "    <tr>\n",
       "      <th>From Justin to Kelly</th>\n",
       "      <td>Robert Iscove</td>\n",
       "      <td>Kelly Clarkson</td>\n",
       "      <td>Anika Noni Rose</td>\n",
       "      <td>Brian Dietzen</td>\n",
       "      <td>4.922166</td>\n",
       "      <td>2-3</td>\n",
       "    </tr>\n",
       "  </tbody>\n",
       "</table>\n",
       "</div>"
      ],
      "text/plain": [
       "                                               Director         Actor 1  \\\n",
       "Movie Name                                                                \n",
       "Justin Bieber: Never Say Never               Jon M. Chu   Sean Kingston   \n",
       "Disaster Movie                          Jason Friedberg        Tony Cox   \n",
       "Who's Your Caddy?                      Don Michael Paul     Faizon Love   \n",
       "Crossover                        Preston A. Whitmore II     Wayne Brady   \n",
       "From Justin to Kelly                      Robert Iscove  Kelly Clarkson   \n",
       "\n",
       "                                         Actor 2         Actor 3      Gross  \\\n",
       "Movie Name                                                                    \n",
       "Justin Bieber: Never Say Never     Usher Raymond     Boys II Men  73.000942   \n",
       "Disaster Movie                    Carmen Electra  Ike Barinholtz  14.174654   \n",
       "Who's Your Caddy?                  Jeffrey Jones      Lil' Wayne   5.694308   \n",
       "Crossover                        Wesley Jonathan    Eva Marcille   7.009668   \n",
       "From Justin to Kelly             Anika Noni Rose   Brian Dietzen   4.922166   \n",
       "\n",
       "                                Normalised IMDB Score  \n",
       "Movie Name                                             \n",
       "Justin Bieber: Never Say Never                    1-2  \n",
       "Disaster Movie                                    1-2  \n",
       "Who's Your Caddy?                                 1-2  \n",
       "Crossover                                         2-3  \n",
       "From Justin to Kelly                              2-3  "
      ]
     },
     "execution_count": 21,
     "metadata": {},
     "output_type": "execute_result"
    }
   ],
   "source": [
    "#Remove unnecessary columns\n",
    "df_star = df.drop(['Number of Votes','Genre','Country','Rating','IMDB Score','Budget','Year'], 1)\n",
    "df_star.head()"
   ]
  },
  {
   "cell_type": "code",
   "execution_count": 22,
   "metadata": {},
   "outputs": [
    {
     "data": {
      "text/plain": [
       "Movie Name\n",
       "Justin Bieber: Never Say Never          Sean Kingston|Usher Raymond|Boys II Men\n",
       "Disaster Movie                           Tony Cox|Carmen Electra|Ike Barinholtz\n",
       "Who's Your Caddy?                          Faizon Love|Jeffrey Jones|Lil' Wayne\n",
       "Crossover                              Wayne Brady|Wesley Jonathan|Eva Marcille\n",
       "From Justin to Kelly               Kelly Clarkson|Anika Noni Rose|Brian Dietzen\n",
       "Name: Actor, dtype: object"
      ]
     },
     "execution_count": 22,
     "metadata": {},
     "output_type": "execute_result"
    }
   ],
   "source": [
    "#Merge the different actors column into 1 and the use same function\n",
    "#Getting error 'float' object has no attribute 'split'\n",
    "#Also unable to pivot the data\n",
    "df_star['Actor'] = df_star['Actor 1']+\"|\"+df_star['Actor 2']+\"|\"+df_star['Actor 3']\n",
    "df_star['Actor'].head()"
   ]
  },
  {
   "cell_type": "code",
   "execution_count": 23,
   "metadata": {},
   "outputs": [
    {
     "data": {
      "text/html": [
       "<div>\n",
       "<style>\n",
       "    .dataframe thead tr:only-child th {\n",
       "        text-align: right;\n",
       "    }\n",
       "\n",
       "    .dataframe thead th {\n",
       "        text-align: left;\n",
       "    }\n",
       "\n",
       "    .dataframe tbody tr th {\n",
       "        vertical-align: top;\n",
       "    }\n",
       "</style>\n",
       "<table border=\"1\" class=\"dataframe\">\n",
       "  <thead>\n",
       "    <tr style=\"text-align: right;\">\n",
       "      <th></th>\n",
       "      <th>Director</th>\n",
       "      <th>Actor 1</th>\n",
       "      <th>Actor 2</th>\n",
       "      <th>Actor 3</th>\n",
       "      <th>Gross</th>\n",
       "      <th>Normalised IMDB Score</th>\n",
       "      <th>Actor</th>\n",
       "    </tr>\n",
       "    <tr>\n",
       "      <th>Movie Name</th>\n",
       "      <th></th>\n",
       "      <th></th>\n",
       "      <th></th>\n",
       "      <th></th>\n",
       "      <th></th>\n",
       "      <th></th>\n",
       "      <th></th>\n",
       "    </tr>\n",
       "  </thead>\n",
       "  <tbody>\n",
       "    <tr>\n",
       "      <th>Justin Bieber: Never Say Never</th>\n",
       "      <td>Jon M. Chu</td>\n",
       "      <td>Sean Kingston</td>\n",
       "      <td>Usher Raymond</td>\n",
       "      <td>Boys II Men</td>\n",
       "      <td>73.000942</td>\n",
       "      <td>1-2</td>\n",
       "      <td>Sean Kingston|Usher Raymond|Boys II Men</td>\n",
       "    </tr>\n",
       "    <tr>\n",
       "      <th>Disaster Movie</th>\n",
       "      <td>Jason Friedberg</td>\n",
       "      <td>Tony Cox</td>\n",
       "      <td>Carmen Electra</td>\n",
       "      <td>Ike Barinholtz</td>\n",
       "      <td>14.174654</td>\n",
       "      <td>1-2</td>\n",
       "      <td>Tony Cox|Carmen Electra|Ike Barinholtz</td>\n",
       "    </tr>\n",
       "    <tr>\n",
       "      <th>Who's Your Caddy?</th>\n",
       "      <td>Don Michael Paul</td>\n",
       "      <td>Faizon Love</td>\n",
       "      <td>Jeffrey Jones</td>\n",
       "      <td>Lil' Wayne</td>\n",
       "      <td>5.694308</td>\n",
       "      <td>1-2</td>\n",
       "      <td>Faizon Love|Jeffrey Jones|Lil' Wayne</td>\n",
       "    </tr>\n",
       "    <tr>\n",
       "      <th>Crossover</th>\n",
       "      <td>Preston A. Whitmore II</td>\n",
       "      <td>Wayne Brady</td>\n",
       "      <td>Wesley Jonathan</td>\n",
       "      <td>Eva Marcille</td>\n",
       "      <td>7.009668</td>\n",
       "      <td>2-3</td>\n",
       "      <td>Wayne Brady|Wesley Jonathan|Eva Marcille</td>\n",
       "    </tr>\n",
       "    <tr>\n",
       "      <th>From Justin to Kelly</th>\n",
       "      <td>Robert Iscove</td>\n",
       "      <td>Kelly Clarkson</td>\n",
       "      <td>Anika Noni Rose</td>\n",
       "      <td>Brian Dietzen</td>\n",
       "      <td>4.922166</td>\n",
       "      <td>2-3</td>\n",
       "      <td>Kelly Clarkson|Anika Noni Rose|Brian Dietzen</td>\n",
       "    </tr>\n",
       "  </tbody>\n",
       "</table>\n",
       "</div>"
      ],
      "text/plain": [
       "                                               Director         Actor 1  \\\n",
       "Movie Name                                                                \n",
       "Justin Bieber: Never Say Never               Jon M. Chu   Sean Kingston   \n",
       "Disaster Movie                          Jason Friedberg        Tony Cox   \n",
       "Who's Your Caddy?                      Don Michael Paul     Faizon Love   \n",
       "Crossover                        Preston A. Whitmore II     Wayne Brady   \n",
       "From Justin to Kelly                      Robert Iscove  Kelly Clarkson   \n",
       "\n",
       "                                         Actor 2         Actor 3      Gross  \\\n",
       "Movie Name                                                                    \n",
       "Justin Bieber: Never Say Never     Usher Raymond     Boys II Men  73.000942   \n",
       "Disaster Movie                    Carmen Electra  Ike Barinholtz  14.174654   \n",
       "Who's Your Caddy?                  Jeffrey Jones      Lil' Wayne   5.694308   \n",
       "Crossover                        Wesley Jonathan    Eva Marcille   7.009668   \n",
       "From Justin to Kelly             Anika Noni Rose   Brian Dietzen   4.922166   \n",
       "\n",
       "                                Normalised IMDB Score  \\\n",
       "Movie Name                                              \n",
       "Justin Bieber: Never Say Never                    1-2   \n",
       "Disaster Movie                                    1-2   \n",
       "Who's Your Caddy?                                 1-2   \n",
       "Crossover                                         2-3   \n",
       "From Justin to Kelly                              2-3   \n",
       "\n",
       "                                                                        Actor  \n",
       "Movie Name                                                                     \n",
       "Justin Bieber: Never Say Never        Sean Kingston|Usher Raymond|Boys II Men  \n",
       "Disaster Movie                         Tony Cox|Carmen Electra|Ike Barinholtz  \n",
       "Who's Your Caddy?                        Faizon Love|Jeffrey Jones|Lil' Wayne  \n",
       "Crossover                            Wayne Brady|Wesley Jonathan|Eva Marcille  \n",
       "From Justin to Kelly             Kelly Clarkson|Anika Noni Rose|Brian Dietzen  "
      ]
     },
     "execution_count": 23,
     "metadata": {},
     "output_type": "execute_result"
    }
   ],
   "source": [
    "df_star.head()"
   ]
  },
  {
   "cell_type": "code",
   "execution_count": 24,
   "metadata": {},
   "outputs": [],
   "source": [
    "#convert the columns to row \n",
    "df_star_melt = pd.melt(frame = df_star , id_vars=['Director', 'Gross','Normalised IMDB Score'], value_name='Actor')\n"
   ]
  },
  {
   "cell_type": "code",
   "execution_count": 25,
   "metadata": {},
   "outputs": [
    {
     "data": {
      "text/html": [
       "<div>\n",
       "<style>\n",
       "    .dataframe thead tr:only-child th {\n",
       "        text-align: right;\n",
       "    }\n",
       "\n",
       "    .dataframe thead th {\n",
       "        text-align: left;\n",
       "    }\n",
       "\n",
       "    .dataframe tbody tr th {\n",
       "        vertical-align: top;\n",
       "    }\n",
       "</style>\n",
       "<table border=\"1\" class=\"dataframe\">\n",
       "  <thead>\n",
       "    <tr style=\"text-align: right;\">\n",
       "      <th></th>\n",
       "      <th>Director</th>\n",
       "      <th>Gross</th>\n",
       "      <th>Normalised IMDB Score</th>\n",
       "      <th>variable</th>\n",
       "      <th>Actor</th>\n",
       "    </tr>\n",
       "  </thead>\n",
       "  <tbody>\n",
       "    <tr>\n",
       "      <th>0</th>\n",
       "      <td>Jon M. Chu</td>\n",
       "      <td>73.000942</td>\n",
       "      <td>1-2</td>\n",
       "      <td>Actor 1</td>\n",
       "      <td>Sean Kingston</td>\n",
       "    </tr>\n",
       "    <tr>\n",
       "      <th>1</th>\n",
       "      <td>Jason Friedberg</td>\n",
       "      <td>14.174654</td>\n",
       "      <td>1-2</td>\n",
       "      <td>Actor 1</td>\n",
       "      <td>Tony Cox</td>\n",
       "    </tr>\n",
       "    <tr>\n",
       "      <th>2</th>\n",
       "      <td>Don Michael Paul</td>\n",
       "      <td>5.694308</td>\n",
       "      <td>1-2</td>\n",
       "      <td>Actor 1</td>\n",
       "      <td>Faizon Love</td>\n",
       "    </tr>\n",
       "    <tr>\n",
       "      <th>3</th>\n",
       "      <td>Preston A. Whitmore II</td>\n",
       "      <td>7.009668</td>\n",
       "      <td>2-3</td>\n",
       "      <td>Actor 1</td>\n",
       "      <td>Wayne Brady</td>\n",
       "    </tr>\n",
       "    <tr>\n",
       "      <th>4</th>\n",
       "      <td>Robert Iscove</td>\n",
       "      <td>4.922166</td>\n",
       "      <td>2-3</td>\n",
       "      <td>Actor 1</td>\n",
       "      <td>Kelly Clarkson</td>\n",
       "    </tr>\n",
       "  </tbody>\n",
       "</table>\n",
       "</div>"
      ],
      "text/plain": [
       "                 Director      Gross Normalised IMDB Score variable  \\\n",
       "0              Jon M. Chu  73.000942                   1-2  Actor 1   \n",
       "1         Jason Friedberg  14.174654                   1-2  Actor 1   \n",
       "2        Don Michael Paul   5.694308                   1-2  Actor 1   \n",
       "3  Preston A. Whitmore II   7.009668                   2-3  Actor 1   \n",
       "4           Robert Iscove   4.922166                   2-3  Actor 1   \n",
       "\n",
       "            Actor  \n",
       "0   Sean Kingston  \n",
       "1        Tony Cox  \n",
       "2     Faizon Love  \n",
       "3     Wayne Brady  \n",
       "4  Kelly Clarkson  "
      ]
     },
     "execution_count": 25,
     "metadata": {},
     "output_type": "execute_result"
    }
   ],
   "source": [
    "df_star_melt.head()"
   ]
  },
  {
   "cell_type": "code",
   "execution_count": 28,
   "metadata": {},
   "outputs": [
    {
     "data": {
      "text/plain": [
       "<matplotlib.text.Text at 0x11cc7ab00>"
      ]
     },
     "execution_count": 28,
     "metadata": {},
     "output_type": "execute_result"
    },
    {
     "data": {
      "image/png": "[encoded data removed]",
      "text/plain": [
       "<matplotlib.figure.Figure at 0x11d319ba8>"
      ]
     },
     "metadata": {},
     "output_type": "display_data"
    }
   ],
   "source": [
    "f, ax = plt.subplots(figsize = (10,5))\n",
    "star_gross_plot = sns.barplot(x=\"Actor\", y = \"Gross\", data = df_star_melt, palette = \"Set3\")\n",
    "star_gross_plot.axes.set_title('Actor vs. Gross Revenue', fontsize=15,color=\"salmon\",alpha=0.9)"
   ]
  },
  {
   "cell_type": "code",
   "execution_count": 31,
   "metadata": {},
   "outputs": [],
   "source": [
    "df_star_melt['Value Counts'] = df_star_melt.groupby('Actor')['Actor'].transform('count')"
   ]
  },
  {
   "cell_type": "code",
   "execution_count": null,
   "metadata": {
    "collapsed": true
   },
   "outputs": [],
   "source": [
    "df_star_melt['Actor'].value_counts()"
   ]
  },
  {
   "cell_type": "code",
   "execution_count": 55,
   "metadata": {},
   "outputs": [
    {
     "data": {
      "text/plain": [
       "0    Below 25\n",
       "1    Below 25\n",
       "2    Below 25\n",
       "3    Below 25\n",
       "4    Below 25\n",
       "Name: Value Counts, dtype: category\n",
       "Categories (2, object): [Above 25 < Below 25]"
      ]
     },
     "execution_count": 55,
     "metadata": {},
     "output_type": "execute_result"
    }
   ],
   "source": [
    "\n",
    "bins = [0,25,50]\n",
    "group_names = ['Below 25','Above 25']\n",
    "categories = pd.cut(df_star_melt['Value Counts'], bins, labels=group_names)\n",
    "df_star_melt['Popularity of Actor'] = pd.cut(df_star_melt['Value Counts'], bins, labels=group_names)\n",
    "categories.head(5)"
   ]
  },
  {
   "cell_type": "code",
   "execution_count": 56,
   "metadata": {},
   "outputs": [
    {
     "data": {
      "text/plain": [
       "<matplotlib.text.Text at 0x12fd68518>"
      ]
     },
     "execution_count": 56,
     "metadata": {},
     "output_type": "execute_result"
    },
    {
     "data": {
      "image/png": "[encoded data removed]",
      "text/plain": [
       "<matplotlib.figure.Figure at 0x130249da0>"
      ]
     },
     "metadata": {},
     "output_type": "display_data"
    }
   ],
   "source": [
    "pd.value_counts(df_star_melt['Popularity of Actor'])\n",
    "\n",
    "f, ax = plt.subplots(figsize=(5, 7))\n",
    "FameActor = sns.barplot(x=\"Popularity of Actor\", y=\"Gross\", data=df_star_melt, palette=\"Set3\")\n",
    "FameActor.axes.set_title('Popularity of Actor v. Gross', fontsize=15,color=\"r\",alpha=0.5)"
   ]
  },
  {
   "cell_type": "markdown",
   "metadata": {},
   "source": [
    "## (7) provide your opinion on what makes a movie successful\n",
    "\n",
    "-- Provide your solution"
   ]
  },
  {
   "cell_type": "code",
   "execution_count": null,
   "metadata": {
    "collapsed": true
   },
   "outputs": [],
   "source": [
    "As per observation of data and plots below are the key points which make a movie successful:\n",
    "    \n",
    "1.Higher budget movies i.e expensive special effects and extensive marketing.\n",
    "2.Higher IMDB rating.\n",
    "3.Having popular actor\n",
    "4.Directed by a popular director\n"
   ]
  },
  {
   "cell_type": "markdown",
   "metadata": {},
   "source": [
    "## Good Luck!"
   ]
  },
  {
   "cell_type": "code",
   "execution_count": null,
   "metadata": {
    "collapsed": true
   },
   "outputs": [],
   "source": []
  }
 ],
 "metadata": {
  "kernelspec": {
   "display_name": "Python 3",
   "language": "python",
   "name": "python3"
  },
  "language_info": {
   "codemirror_mode": {
    "name": "ipython",
    "version": 3
   },
   "file_extension": ".py",
   "mimetype": "text/x-python",
   "name": "python",
   "nbconvert_exporter": "python",
   "pygments_lexer": "ipython3",
   "version": "3.6.1"
  }
 },
 "nbformat": 4,
 "nbformat_minor": 2
}
